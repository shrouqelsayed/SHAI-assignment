{
  "cells": [
    {
      "cell_type": "code",
      "execution_count": null,
      "metadata": {
        "colab": {
          "base_uri": "https://localhost:8080/",
          "height": 486
        },
        "id": "KmZfk5xkXI2y",
        "outputId": "e77ffddb-f533-4bac-d15a-3ea9f42b7890"
      },
      "outputs": [],
      "source": [
        "import pandas as pd\n",
        "import numpy as np\n",
        "\n",
        "\n",
        "df = pd.read_csv('Salaries.csv')\n",
        "\n",
        "\n",
        "print(\"number of rows : \", df.shape[0])\n",
        "\n",
        "print(\"number of columns : \", df.shape[1])"
      ]
    },
    {
      "cell_type": "code",
      "execution_count": null,
      "metadata": {
        "colab": {
          "base_uri": "https://localhost:8080/"
        },
        "id": "xIT514wlvvBZ",
        "outputId": "9ecf152c-554a-4cf6-d667-efc95c16d489"
      },
      "outputs": [],
      "source": [
        "salary=df['TotalPay']\n",
        "# print(salary)\n",
        "print(\"Salary Mean = \",salary.mean())\n",
        "print(\"Salary Median = \",salary.median())\n",
        "print(\"Minimum value in salary column = \",salary.min())\n",
        "print(\"Maximum value in salary column = \",salary.max())\n",
        "print(\"Salary Standard Deviation = \",salary.std())\n",
        "print(\"Range Of Salary from \",salary.min(),\"to\",salary.max())\n",
        "print(\"Range Of Salary= \",salary[0:])"
      ]
    },
    {
      "cell_type": "code",
      "execution_count": null,
      "metadata": {
        "id": "bbIN2ujHUyRx"
      },
      "outputs": [],
      "source": [
        "# There are many ways to deal with missing data:\n",
        "# 1) Use the dropna() function, which deletes the row that contains any empty cells and returns the result in a new datasetز\n",
        "new_df=df.dropna() \n",
        "\n",
        "# 2) Use the fillna() function. Here, I put an alternative value in the empty field instead of deleting it\n",
        "\n",
        "df.fillna(True)"
      ]
    },
    {
      "cell_type": "code",
      "execution_count": null,
      "metadata": {
        "id": "_dovy31FUyUF"
      },
      "outputs": [],
      "source": [
        "import matplotlib.pyplot as plt\n",
        " \n",
        "# This will plot a simple bar chart\n",
        "plt.hist(df['TotalPay'])\n",
        " \n",
        "# Title to the plot\n",
        "plt.title(\"Distributions of salary\")\n",
        " \n",
        "\n",
        "plt.show()"
      ]
    },
    {
      "cell_type": "code",
      "execution_count": null,
      "metadata": {},
      "outputs": [],
      "source": [
        "\n",
        "job=df['JobTitle']\n",
        "\n",
        "\n",
        "\n",
        "count_dict = {}\n",
        "job_title=[]\n",
        "job_number=[]\n",
        "\n",
        "\n",
        "for element in job:\n",
        "    if element in count_dict:\n",
        "        count_dict[element] += 1\n",
        "    else:\n",
        "        count_dict[element] = 1\n",
        "\n",
        "job_title=count_dict.keys()    \n",
        "job_number=count_dict.values()  \n",
        "\n",
        "\n",
        "\n",
        "import matplotlib.pyplot as plt\n",
        "import numpy as np\n",
        "\n",
        "y = np.array(list(job_number))\n",
        "mylabels =list(job_title)\n",
        "\n",
        "plt.pie(y, labels = mylabels)\n",
        "plt.show() "
      ]
    },
    {
      "cell_type": "code",
      "execution_count": null,
      "metadata": {},
      "outputs": [],
      "source": [
        "\n",
        "\n",
        "grouped_data = df.groupby('JobTitle')\n",
        "\n",
        "\n",
        "mean_salary = grouped_data['TotalPay'].mean()\n",
        "\n",
        "\n",
        "print(mean_salary)\n",
        "\n"
      ]
    },
    {
      "cell_type": "code",
      "execution_count": null,
      "metadata": {},
      "outputs": [],
      "source": [
        "import seaborn as sns\n",
        "\n",
        "\n",
        "\n",
        "correlation = df['TotalPay'].corr(df['BasePay'])\n",
        "\n",
        "\n",
        "plt.figure(figsize=(8, 6))\n",
        "sns.scatterplot(x='BasePay', y='TotalPay', df=df, color='blue')\n",
        "\n",
        "plt.xlabel('BasePay')\n",
        "plt.ylabel('TotalPay')\n",
        "plt.grid(True)\n",
        "plt.show()\n",
        "\n"
      ]
    },
    {
      "cell_type": "markdown",
      "metadata": {
        "id": "HE9jbRjcUyoX"
      },
      "source": [
        "# Good Luck!\n"
      ]
    }
  ],
  "metadata": {
    "colab": {
      "provenance": []
    },
    "kernelspec": {
      "display_name": "Python 3",
      "name": "python3"
    },
    "language_info": {
      "name": "python"
    }
  },
  "nbformat": 4,
  "nbformat_minor": 0
}
